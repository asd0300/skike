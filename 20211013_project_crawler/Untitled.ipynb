{
 "cells": [
  {
   "cell_type": "code",
   "execution_count": 1,
   "id": "0ae51ef5",
   "metadata": {},
   "outputs": [],
   "source": [
    "from selenium import webdriver\n",
    "from selenium.webdriver.chrome.options import Options\n",
    "import time"
   ]
  },
  {
   "cell_type": "code",
   "execution_count": 2,
   "id": "97d7c86f",
   "metadata": {},
   "outputs": [],
   "source": [
    "options = Options()\n",
    "user_agent = \"Mozilla/5.0 (Windows NT 10.0; Win64; x64) AppleWebKit/537.36 (KHTML, like Gecko) Chrome/94.0.4606.81 Safari/537.36\"\n",
    "opt = webdriver.ChromeOptions()\n",
    "opt.add_argument('--user-agent=%s' % user_agent)\n",
    "driver = webdriver.Chrome(executable_path=r'C:\\Users\\Ben Fan\\Desktop\\py\\buyPS5-momo\\chromedriver.exe' , options=opt)\n",
    "driver.set_window_size(1024, 960)"
   ]
  },
  {
   "cell_type": "code",
   "execution_count": 3,
   "id": "4b7d71f5",
   "metadata": {},
   "outputs": [],
   "source": [
    "driver.get(\"https://www.expedia.com.tw/Flights-Search?leg1=from%3A%E5%8F%B0%E5%8C%97%20%28TPE-%E6%A1%83%E5%9C%92%E5%9C%8B%E9%9A%9B%E6%A9%9F%E5%A0%B4%29%2Cto%3A%E5%A5%A7%E8%98%AD%E5%A4%9A%2C%20%E4%BD%9B%E7%BE%85%E9%87%8C%E9%81%94%20%28MCO-%E5%A5%A7%E8%98%AD%E5%A4%9A%E5%9C%8B%E9%9A%9B%E6%A9%9F%E5%A0%B4%29%2Cdeparture%3A2021%2F10%2F31TANYT&leg2=from%3A%E5%A5%A7%E8%98%AD%E5%A4%9A%2C%20%E4%BD%9B%E7%BE%85%E9%87%8C%E9%81%94%20%28MCO-%E5%A5%A7%E8%98%AD%E5%A4%9A%E5%9C%8B%E9%9A%9B%E6%A9%9F%E5%A0%B4%29%2Cto%3A%E5%8F%B0%E5%8C%97%20%28TPE-%E6%A1%83%E5%9C%92%E5%9C%8B%E9%9A%9B%E6%A9%9F%E5%A0%B4%29%2Cdeparture%3A2021%2F11%2F6TANYT&mode=search&options=carrier%3A%2A%2Ccabinclass%3A%2Cmaxhops%3A1%2Cnopenalty%3AN&pageId=0&passengers=adults%3A1%2Cchildren%3A0%2Cinfantinlap%3AN&trip=roundtrip\")"
   ]
  },
  {
   "cell_type": "code",
   "execution_count": 4,
   "id": "84e3d0e1",
   "metadata": {},
   "outputs": [],
   "source": [
    "# a = driver.find_elements_by_class_name(\"chevron-down\")"
   ]
  },
  {
   "cell_type": "code",
   "execution_count": 5,
   "id": "054d597d",
   "metadata": {
    "scrolled": true
   },
   "outputs": [],
   "source": [
    "# driver.find_elements_by_class_name(\"uitk-card-link\")[0].click()"
   ]
  },
  {
   "cell_type": "code",
   "execution_count": 6,
   "id": "6319ac03",
   "metadata": {},
   "outputs": [],
   "source": [
    "time.sleep(1.5)"
   ]
  },
  {
   "cell_type": "code",
   "execution_count": 7,
   "id": "567db5df",
   "metadata": {},
   "outputs": [],
   "source": [
    "a = driver.find_elements_by_class_name(\"is-visually-hidden\")"
   ]
  },
  {
   "cell_type": "code",
   "execution_count": 8,
   "id": "60b85a54",
   "metadata": {},
   "outputs": [],
   "source": [
    "result = []\n",
    "for item in a:\n",
    "    result.append(item.get_attribute('innerHTML'))\n",
    "    time.sleep(1)"
   ]
  },
  {
   "cell_type": "code",
   "execution_count": 9,
   "id": "15a38c1f",
   "metadata": {},
   "outputs": [
    {
     "name": "stdout",
     "output_type": "stream",
     "text": [
      "['', 'Opens in a new window', '已選擇', '篩選依據', '彈性變更規定', '篩選條件為不收變更費用', '轉機點', '3 班 1 個轉機點班機，最低價 NT$54,834', '55 班 2 個以上轉機點班機，最低價 NT$47,802', '航空公司', '42 班聯合航空班機，最低價 NT$54,834', '8 班達美航空班機，最低價 NT$53,474', '5 班全日空輸株式會社班機，最低價 NT$96,886', '4 班韓亞航空班機，最低價 NT$104,602', '3 班大韓航空班機，最低價 NT$62,322', '3 班美國航空班機，最低價 NT$104,602', '3 班長榮航空班機，最低價 NT$90,105', '1 班中華航空班機，最低價 NT$204,181', '1 班土耳其航空班機，最低價 NT$47,802', '1 班阿拉斯加航空班機，最低價 NT$90,105', '', '', '', '', '', '', '', '選擇前往奧蘭多的班機', '搜尋結果', '<h3 class=\"uitk-heading-7\">從21:55出發的土耳其航空班機，最低價 NT$47,802</h3>', '此價格機票還剩 4 張', 'NT$47,802', '選擇並顯示土耳其航空班機的票價資訊，21:55 從台北出發，00:18 抵達奧蘭多，每人來回的價格為 NT$47,802，抵達日期加 2 天。，總飛行時間 38 小時 23 分鐘，2 個轉機點，在伊斯坦堡停留 10 小時 40 分鐘 • 在華盛頓停留 2 小時 5 分鐘，4 項清潔和安全措施，須備有新冠肺炎 (COVID-19) 陰性檢驗報告。', '<h3 class=\"uitk-heading-7\">從12:25出發的達美航空班機，最低價 NT$53,474</h3>', 'NT$53,474', '選擇並顯示達美航空班機的票價資訊，12:25 從台北出發，18:27 抵達奧蘭多，每人來回的價格為 NT$53,474，抵達日期加 1 天。，總飛行時間 42 小時 2 分鐘，2 個轉機點，在首爾停留 17 小時 35 分鐘 • 在底特律停留 6 小時 20 分鐘，3 項清潔和安全措施，須備有新冠肺炎 (COVID-19) 陰性檢驗報告。', '<h3 class=\"uitk-heading-7\">從12:25出發的達美航空班機，最低價 NT$53,474</h3>', 'NT$53,474', '選擇並顯示達美航空班機的票價資訊，12:25 從台北出發，18:30 抵達奧蘭多，每人來回的價格為 NT$53,474，抵達日期加 1 天。，總飛行時間 42 小時 5 分鐘，2 個轉機點，在首爾停留 18 小時 10 分鐘 • 在紐約停留 4 小時 30 分鐘，2 項清潔和安全措施。', '<h3 class=\"uitk-heading-7\">從12:25出發的達美航空班機，最低價 NT$53,474</h3>', 'NT$53,474', '選擇並顯示達美航空班機的票價資訊，12:25 從台北出發，23:07 抵達奧蘭多，每人來回的價格為 NT$53,474，抵達日期加 1 天。，總飛行時間 46 小時 42 分鐘，2 個轉機點，在首爾停留 18 小時 10 分鐘 • 在紐約停留 8 小時 59 分鐘，2 項清潔和安全措施。', '<h3 class=\"uitk-heading-7\">從10:35出發的聯合航空班機，最低價 NT$54,834</h3>', 'NT$54,834', '選擇並顯示聯合航空班機的票價資訊，10:35 從台北出發，17:58 抵達奧蘭多，每人來回的價格為 NT$54,834，，總飛行時間 19 小時 23 分鐘，1 個轉機點，在舊金山停留 2 小時 54 分鐘，4 項清潔和安全措施，須備有新冠肺炎 (COVID-19) 陰性檢驗報告。', '以價格 (低到高)排序的搜尋結果 ']\n"
     ]
    }
   ],
   "source": [
    "print(result)"
   ]
  },
  {
   "cell_type": "code",
   "execution_count": 10,
   "id": "858c119b",
   "metadata": {},
   "outputs": [],
   "source": [
    "time.sleep(10)"
   ]
  },
  {
   "cell_type": "code",
   "execution_count": 11,
   "id": "9dd7ca42",
   "metadata": {},
   "outputs": [],
   "source": [
    "driver.get(\"https://www.expedia.com.tw/Flights-Search?leg1=from%3A%E5%8F%B0%E5%8C%97%20%28TPE-%E6%A1%83%E5%9C%92%E5%9C%8B%E9%9A%9B%E6%A9%9F%E5%A0%B4%29%2Cto%3A%E8%8E%AB%E6%96%AF%E7%A7%91%20%28MOW-%E6%89%80%E6%9C%89%E6%A9%9F%E5%A0%B4%29%2Cdeparture%3A2021%2F10%2F31TANYT&leg2=from%3A%E8%8E%AB%E6%96%AF%E7%A7%91%20%28MOW-%E6%89%80%E6%9C%89%E6%A9%9F%E5%A0%B4%29%2Cto%3A%E5%8F%B0%E5%8C%97%20%28TPE-%E6%A1%83%E5%9C%92%E5%9C%8B%E9%9A%9B%E6%A9%9F%E5%A0%B4%29%2Cdeparture%3A2021%2F11%2F1TANYT&mode=search&options=carrier%3A%2A%2Ccabinclass%3A%2Cmaxhops%3A1%2Cnopenalty%3AN&pageId=0&passengers=adults%3A1%2Cchildren%3A0%2Cinfantinlap%3AN&trip=roundtrip\")"
   ]
  },
  {
   "cell_type": "code",
   "execution_count": 12,
   "id": "31c3cd61",
   "metadata": {},
   "outputs": [],
   "source": [
    "time.sleep(1.5)"
   ]
  },
  {
   "cell_type": "code",
   "execution_count": 13,
   "id": "ffe7c846",
   "metadata": {},
   "outputs": [],
   "source": [
    "a = driver.find_elements_by_class_name(\"is-visually-hidden\")"
   ]
  },
  {
   "cell_type": "code",
   "execution_count": 14,
   "id": "ca6c1c2f",
   "metadata": {},
   "outputs": [],
   "source": [
    "time.sleep(1)"
   ]
  },
  {
   "cell_type": "code",
   "execution_count": 15,
   "id": "efb9c6d2",
   "metadata": {},
   "outputs": [],
   "source": [
    "result = []\n",
    "for item in a:\n",
    "    result.append(item.get_attribute('innerHTML'))\n",
    "    time.sleep(1)"
   ]
  },
  {
   "cell_type": "code",
   "execution_count": 16,
   "id": "360770a1",
   "metadata": {},
   "outputs": [
    {
     "name": "stdout",
     "output_type": "stream",
     "text": [
      "[]\n"
     ]
    }
   ],
   "source": [
    "print(result)"
   ]
  },
  {
   "cell_type": "code",
   "execution_count": null,
   "id": "b7b72ceb",
   "metadata": {},
   "outputs": [],
   "source": []
  }
 ],
 "metadata": {
  "kernelspec": {
   "display_name": "Python 3 (ipykernel)",
   "language": "python",
   "name": "python3"
  },
  "language_info": {
   "codemirror_mode": {
    "name": "ipython",
    "version": 3
   },
   "file_extension": ".py",
   "mimetype": "text/x-python",
   "name": "python",
   "nbconvert_exporter": "python",
   "pygments_lexer": "ipython3",
   "version": "3.7.10"
  }
 },
 "nbformat": 4,
 "nbformat_minor": 5
}
