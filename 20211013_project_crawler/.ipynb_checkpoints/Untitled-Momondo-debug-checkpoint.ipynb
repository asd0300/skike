{
 "cells": [
  {
   "cell_type": "code",
   "execution_count": 47,
   "id": "0ae51ef5",
   "metadata": {},
   "outputs": [],
   "source": [
    "from selenium import webdriver\n",
    "from selenium.webdriver.chrome.options import Options\n",
    "import time\n",
    "import re"
   ]
  },
  {
   "cell_type": "code",
   "execution_count": 48,
   "id": "97d7c86f",
   "metadata": {},
   "outputs": [],
   "source": [
    "options = Options()\n",
    "user_agent = \"Mozilla/5.0 (Windows NT 10.0; Win64; x64) AppleWebKit/537.36 (KHTML, like Gecko) Chrome/94.0.4606.81 Safari/537.36\"\n",
    "opt = webdriver.ChromeOptions()\n",
    "opt.add_argument('--user-agent=%s' % user_agent)\n",
    "driver = webdriver.Chrome(executable_path=r'C:\\Users\\Ben Fan\\Desktop\\py\\buyPS5-momo\\chromedriver.exe' , options=opt)\n",
    "driver.set_window_size(1024, 960)"
   ]
  },
  {
   "cell_type": "code",
   "execution_count": 49,
   "id": "4b7d71f5",
   "metadata": {},
   "outputs": [],
   "source": [
    "driver.get(\"https://www.momondo.tw/flight-search/TPE-KIX/2022-01-04?sort=bestflight_a\")"
   ]
  },
  {
   "cell_type": "code",
   "execution_count": 81,
   "id": "62eded75",
   "metadata": {},
   "outputs": [
    {
     "name": "stdout",
     "output_type": "stream",
     "text": [
      "['08:50', '01:55', '08:55', '15:35', '12:55', '10:40', '06:40', '06:40', '09:30', '09:30', '12:25', '15:35', '15:35', '09:30', '09:30']\n",
      "15\n"
     ]
    }
   ],
   "source": [
    "departList =[]\n",
    "are = driver.find_elements_by_css_selector(\"span[class='depart-time base-time']\")\n",
    "for money in are:\n",
    "    departList.append(money.text)\n",
    "print(departList)\n",
    "print(len(departList))"
   ]
  },
  {
   "cell_type": "code",
   "execution_count": 84,
   "id": "672ea890",
   "metadata": {},
   "outputs": [
    {
     "name": "stdout",
     "output_type": "stream",
     "text": [
      "['12:15', '09:45', '12:25', '22:15', '20:55', '20:20', '14:20', '17:45', '18:10', '16:50', '20:55', '22:20', '22:50', '16:50', '18:10']\n",
      "15\n"
     ]
    }
   ],
   "source": [
    "arrciveList =[]\n",
    "are = driver.find_elements_by_css_selector(\"span[class='arrival-time base-time']\")\n",
    "for money in are:\n",
    "    arrciveList.append(money.text)\n",
    "print(arrciveList)\n",
    "print(len(arrciveList))"
   ]
  },
  {
   "cell_type": "code",
   "execution_count": 118,
   "id": "b116e1fe",
   "metadata": {},
   "outputs": [
    {
     "name": "stdout",
     "output_type": "stream",
     "text": [
      "[['TPE 臺灣桃園國際機場', 'KIX 關西國際機場'], ['TPE 臺灣桃園國際機場', 'KIX 關西國際機場'], ['TPE 臺灣桃園國際機場', 'KIX 關西國際機場'], ['TSA 台北松山機場', 'KIX 關西國際機場'], ['TPE 臺灣桃園國際機場', 'KIX 關西國際機場'], ['TPE 臺灣桃園國際機場', 'KIX 關西國際機場'], ['TPE 臺灣桃園國際機場', 'KIX 關西國際機場'], ['TPE 臺灣桃園國際機場', 'KIX 關西國際機場'], ['TSA 台北松山機場', 'KIX 關西國際機場'], ['TSA 台北松山機場', 'KIX 關西國際機場'], ['TPE 臺灣桃園國際機場', 'KIX 關西國際機場'], ['TSA 台北松山機場', 'KIX 關西國際機場'], ['TSA 台北松山機場', 'KIX 關西國際機場'], ['TSA 台北松山機場', 'KIX 關西國際機場'], ['TSA 台北松山機場', 'KIX 關西國際機場']]\n",
      "15\n"
     ]
    }
   ],
   "source": [
    "departAirport=[]\n",
    "are = driver.find_elements_by_css_selector(\"span[class='airport-name']\")\n",
    "for money in are:\n",
    "    departAirport.append(money.text)\n",
    "# print(departAirport)\n",
    "# print(len(departAirport))\n",
    "airportResult =[]\n",
    "a=0\n",
    "for item in range(0,len(departAirport),2):\n",
    "    airportResult.append([departAirport[item],departAirport[item+1]])\n",
    "    a+=1\n",
    "print(airportResult)\n",
    "print(len(airportResult))"
   ]
  },
  {
   "cell_type": "code",
   "execution_count": 120,
   "id": "cede7ad5",
   "metadata": {
    "scrolled": false
   },
   "outputs": [
    {
     "name": "stdout",
     "output_type": "stream",
     "text": [
      "['直飛', '轉機1次', '直飛', '轉機1次', '轉機1次', '轉機1次', '轉機1次', '轉機1次', '轉機1次', '轉機1次', '轉機1次', '轉機1次', '轉機1次', '轉機1次', '轉機1次']\n",
      "15\n"
     ]
    }
   ],
   "source": [
    "turnaroundList=[]\n",
    "are = driver.find_elements_by_css_selector(\"div[class='section stops'] div[class='top'] span\")\n",
    "for money in are:\n",
    "    turnaroundList.append(money.text)\n",
    "turnaroundList = list(filter(None, turnaroundList))\n",
    "print(turnaroundList)\n",
    "print(len(turnaroundList))"
   ]
  },
  {
   "cell_type": "code",
   "execution_count": 121,
   "id": "963be316",
   "metadata": {},
   "outputs": [
    {
     "name": "stdout",
     "output_type": "stream",
     "text": [
      "['2小時25分鐘', '6小時50分鐘', '2小時30分鐘', '5小時40分鐘', '7小時00分鐘', '8小時40分鐘', '6小時40分鐘', '10小時05分鐘', '7小時40分鐘', '6小時20分鐘', '7小時30分鐘', '5小時45分鐘', '6小時15分鐘', '6小時20分鐘', '7小時40分鐘']\n",
      "15\n"
     ]
    }
   ],
   "source": [
    "durationList=[]\n",
    "are = driver.find_elements_by_css_selector(\"div[class='section duration allow-multi-modal-icons'] div[class='top']\")\n",
    "for money in are:\n",
    "    durationList.append(money.text)\n",
    "# turnaroundList = list(filter(None, turnaroundList))\n",
    "print(durationList)\n",
    "print(len(durationList))"
   ]
  },
  {
   "cell_type": "code",
   "execution_count": null,
   "id": "ee6f6cc3",
   "metadata": {},
   "outputs": [],
   "source": []
  },
  {
   "cell_type": "code",
   "execution_count": 43,
   "id": "23a41bb2",
   "metadata": {
    "scrolled": false
   },
   "outputs": [
    {
     "name": "stdout",
     "output_type": "stream",
     "text": [
      "[]\n"
     ]
    }
   ],
   "source": [
    "print(result)"
   ]
  },
  {
   "cell_type": "code",
   "execution_count": 33,
   "id": "d0ea8a52",
   "metadata": {},
   "outputs": [
    {
     "name": "stdout",
     "output_type": "stream",
     "text": [
      "22789\n",
      "23409\n",
      "23589\n",
      "23648\n",
      "23821\n",
      "23906\n",
      "24098\n",
      "24143\n",
      "24322\n",
      "24548\n",
      "24548\n",
      "24554\n",
      "24773\n",
      "24773\n",
      "21346\n",
      "22569\n",
      "22569\n",
      "22928\n",
      "23511\n",
      "23658\n",
      "23729\n",
      "23729\n",
      "23908\n",
      "23930\n",
      "24001\n",
      "24001\n",
      "24010\n",
      "24023\n",
      "24162\n",
      "24162\n",
      "24163\n",
      "24312\n",
      "24343\n",
      "24343\n",
      "24625\n",
      "12053\n",
      "13016\n",
      "13127\n",
      "13127\n",
      "13426\n",
      "13436\n",
      "13484\n",
      "13496\n",
      "13496\n",
      "13614\n",
      "13633\n",
      "13634\n",
      "14064\n",
      "16115\n",
      "12053\n",
      "18620\n",
      "19214\n",
      "22882\n",
      "23470\n",
      "23470\n",
      "23829\n",
      "24646\n",
      "24729\n",
      "24729\n",
      "21590\n",
      "24646\n",
      "24729\n",
      "24729\n",
      "23470\n",
      "24646\n",
      "24729\n",
      "24729\n",
      "23470\n",
      "24646\n",
      "24707\n",
      "24729\n",
      "24729\n",
      "23829\n",
      "29824\n",
      "29824\n",
      "24789\n",
      "23405\n",
      "24863\n",
      "23482\n",
      "24863\n",
      "23482\n",
      "29518\n",
      "30746\n",
      "29518\n",
      "31212\n"
     ]
    }
   ],
   "source": [
    "date=211031\n",
    "\n",
    "for money in result:\n",
    "    moneySplit = re.findall(\"([0-9])\", money)\n",
    "    moneyresult= ''.join(moneySplit)\n",
    "    print(moneyresult)"
   ]
  },
  {
   "cell_type": "code",
   "execution_count": 8,
   "id": "f1af8e86",
   "metadata": {},
   "outputs": [],
   "source": [
    "driver.close()"
   ]
  },
  {
   "cell_type": "code",
   "execution_count": null,
   "id": "2ba6b7a6",
   "metadata": {},
   "outputs": [],
   "source": []
  },
  {
   "cell_type": "code",
   "execution_count": null,
   "id": "8fc17ed2",
   "metadata": {},
   "outputs": [],
   "source": []
  },
  {
   "cell_type": "code",
   "execution_count": null,
   "id": "11efb577",
   "metadata": {},
   "outputs": [],
   "source": []
  },
  {
   "cell_type": "code",
   "execution_count": null,
   "id": "4c4a2cbb",
   "metadata": {},
   "outputs": [],
   "source": []
  },
  {
   "cell_type": "code",
   "execution_count": 9,
   "id": "8389779c",
   "metadata": {},
   "outputs": [],
   "source": [
    "time.sleep(1)"
   ]
  },
  {
   "cell_type": "code",
   "execution_count": 10,
   "id": "5fda2afa",
   "metadata": {},
   "outputs": [
    {
     "ename": "InvalidSessionIdException",
     "evalue": "Message: invalid session id\n",
     "output_type": "error",
     "traceback": [
      "\u001b[1;31m---------------------------------------------------------------------------\u001b[0m",
      "\u001b[1;31mInvalidSessionIdException\u001b[0m                 Traceback (most recent call last)",
      "\u001b[1;32mC:\\Users\\BENFAN~1\\AppData\\Local\\Temp/ipykernel_20588/2266583474.py\u001b[0m in \u001b[0;36m<module>\u001b[1;34m\u001b[0m\n\u001b[1;32m----> 1\u001b[1;33m \u001b[0mdriver\u001b[0m\u001b[1;33m.\u001b[0m\u001b[0mget\u001b[0m\u001b[1;33m(\u001b[0m\u001b[1;34m\"https://www.momondo.tw/flight-search/TPE-KIX/2021-11-02?sort=bestflight_a\"\u001b[0m\u001b[1;33m)\u001b[0m\u001b[1;33m\u001b[0m\u001b[1;33m\u001b[0m\u001b[0m\n\u001b[0m",
      "\u001b[1;32mc:\\users\\ben fan\\miniconda3\\lib\\site-packages\\selenium\\webdriver\\remote\\webdriver.py\u001b[0m in \u001b[0;36mget\u001b[1;34m(self, url)\u001b[0m\n\u001b[0;32m    331\u001b[0m         \u001b[0mLoads\u001b[0m \u001b[0ma\u001b[0m \u001b[0mweb\u001b[0m \u001b[0mpage\u001b[0m \u001b[1;32min\u001b[0m \u001b[0mthe\u001b[0m \u001b[0mcurrent\u001b[0m \u001b[0mbrowser\u001b[0m \u001b[0msession\u001b[0m\u001b[1;33m.\u001b[0m\u001b[1;33m\u001b[0m\u001b[1;33m\u001b[0m\u001b[0m\n\u001b[0;32m    332\u001b[0m         \"\"\"\n\u001b[1;32m--> 333\u001b[1;33m         \u001b[0mself\u001b[0m\u001b[1;33m.\u001b[0m\u001b[0mexecute\u001b[0m\u001b[1;33m(\u001b[0m\u001b[0mCommand\u001b[0m\u001b[1;33m.\u001b[0m\u001b[0mGET\u001b[0m\u001b[1;33m,\u001b[0m \u001b[1;33m{\u001b[0m\u001b[1;34m'url'\u001b[0m\u001b[1;33m:\u001b[0m \u001b[0murl\u001b[0m\u001b[1;33m}\u001b[0m\u001b[1;33m)\u001b[0m\u001b[1;33m\u001b[0m\u001b[1;33m\u001b[0m\u001b[0m\n\u001b[0m\u001b[0;32m    334\u001b[0m \u001b[1;33m\u001b[0m\u001b[0m\n\u001b[0;32m    335\u001b[0m     \u001b[1;33m@\u001b[0m\u001b[0mproperty\u001b[0m\u001b[1;33m\u001b[0m\u001b[1;33m\u001b[0m\u001b[0m\n",
      "\u001b[1;32mc:\\users\\ben fan\\miniconda3\\lib\\site-packages\\selenium\\webdriver\\remote\\webdriver.py\u001b[0m in \u001b[0;36mexecute\u001b[1;34m(self, driver_command, params)\u001b[0m\n\u001b[0;32m    319\u001b[0m         \u001b[0mresponse\u001b[0m \u001b[1;33m=\u001b[0m \u001b[0mself\u001b[0m\u001b[1;33m.\u001b[0m\u001b[0mcommand_executor\u001b[0m\u001b[1;33m.\u001b[0m\u001b[0mexecute\u001b[0m\u001b[1;33m(\u001b[0m\u001b[0mdriver_command\u001b[0m\u001b[1;33m,\u001b[0m \u001b[0mparams\u001b[0m\u001b[1;33m)\u001b[0m\u001b[1;33m\u001b[0m\u001b[1;33m\u001b[0m\u001b[0m\n\u001b[0;32m    320\u001b[0m         \u001b[1;32mif\u001b[0m \u001b[0mresponse\u001b[0m\u001b[1;33m:\u001b[0m\u001b[1;33m\u001b[0m\u001b[1;33m\u001b[0m\u001b[0m\n\u001b[1;32m--> 321\u001b[1;33m             \u001b[0mself\u001b[0m\u001b[1;33m.\u001b[0m\u001b[0merror_handler\u001b[0m\u001b[1;33m.\u001b[0m\u001b[0mcheck_response\u001b[0m\u001b[1;33m(\u001b[0m\u001b[0mresponse\u001b[0m\u001b[1;33m)\u001b[0m\u001b[1;33m\u001b[0m\u001b[1;33m\u001b[0m\u001b[0m\n\u001b[0m\u001b[0;32m    322\u001b[0m             response['value'] = self._unwrap_value(\n\u001b[0;32m    323\u001b[0m                 response.get('value', None))\n",
      "\u001b[1;32mc:\\users\\ben fan\\miniconda3\\lib\\site-packages\\selenium\\webdriver\\remote\\errorhandler.py\u001b[0m in \u001b[0;36mcheck_response\u001b[1;34m(self, response)\u001b[0m\n\u001b[0;32m    240\u001b[0m                 \u001b[0malert_text\u001b[0m \u001b[1;33m=\u001b[0m \u001b[0mvalue\u001b[0m\u001b[1;33m[\u001b[0m\u001b[1;34m'alert'\u001b[0m\u001b[1;33m]\u001b[0m\u001b[1;33m.\u001b[0m\u001b[0mget\u001b[0m\u001b[1;33m(\u001b[0m\u001b[1;34m'text'\u001b[0m\u001b[1;33m)\u001b[0m\u001b[1;33m\u001b[0m\u001b[1;33m\u001b[0m\u001b[0m\n\u001b[0;32m    241\u001b[0m             \u001b[1;32mraise\u001b[0m \u001b[0mexception_class\u001b[0m\u001b[1;33m(\u001b[0m\u001b[0mmessage\u001b[0m\u001b[1;33m,\u001b[0m \u001b[0mscreen\u001b[0m\u001b[1;33m,\u001b[0m \u001b[0mstacktrace\u001b[0m\u001b[1;33m,\u001b[0m \u001b[0malert_text\u001b[0m\u001b[1;33m)\u001b[0m\u001b[1;33m\u001b[0m\u001b[1;33m\u001b[0m\u001b[0m\n\u001b[1;32m--> 242\u001b[1;33m         \u001b[1;32mraise\u001b[0m \u001b[0mexception_class\u001b[0m\u001b[1;33m(\u001b[0m\u001b[0mmessage\u001b[0m\u001b[1;33m,\u001b[0m \u001b[0mscreen\u001b[0m\u001b[1;33m,\u001b[0m \u001b[0mstacktrace\u001b[0m\u001b[1;33m)\u001b[0m\u001b[1;33m\u001b[0m\u001b[1;33m\u001b[0m\u001b[0m\n\u001b[0m\u001b[0;32m    243\u001b[0m \u001b[1;33m\u001b[0m\u001b[0m\n\u001b[0;32m    244\u001b[0m     \u001b[1;32mdef\u001b[0m \u001b[0m_value_or_default\u001b[0m\u001b[1;33m(\u001b[0m\u001b[0mself\u001b[0m\u001b[1;33m,\u001b[0m \u001b[0mobj\u001b[0m\u001b[1;33m,\u001b[0m \u001b[0mkey\u001b[0m\u001b[1;33m,\u001b[0m \u001b[0mdefault\u001b[0m\u001b[1;33m)\u001b[0m\u001b[1;33m:\u001b[0m\u001b[1;33m\u001b[0m\u001b[1;33m\u001b[0m\u001b[0m\n",
      "\u001b[1;31mInvalidSessionIdException\u001b[0m: Message: invalid session id\n"
     ]
    }
   ],
   "source": [
    "driver.get(\"https://www.momondo.tw/flight-search/TPE-KIX/2021-11-02?sort=bestflight_a\")"
   ]
  },
  {
   "cell_type": "code",
   "execution_count": null,
   "id": "331cc616",
   "metadata": {},
   "outputs": [],
   "source": [
    "a = driver.find_elements_by_class_name(\"price-text\")"
   ]
  },
  {
   "cell_type": "code",
   "execution_count": null,
   "id": "a5132e42",
   "metadata": {},
   "outputs": [],
   "source": [
    "result = []\n",
    "for item in a:\n",
    "    result.append(item.get_attribute('innerHTML'))"
   ]
  },
  {
   "cell_type": "code",
   "execution_count": null,
   "id": "033e7c71",
   "metadata": {
    "scrolled": true
   },
   "outputs": [],
   "source": [
    "print(result)"
   ]
  },
  {
   "cell_type": "code",
   "execution_count": null,
   "id": "07e28cce",
   "metadata": {},
   "outputs": [],
   "source": [
    "time.sleep(1)"
   ]
  }
 ],
 "metadata": {
  "kernelspec": {
   "display_name": "Python 3 (ipykernel)",
   "language": "python",
   "name": "python3"
  },
  "language_info": {
   "codemirror_mode": {
    "name": "ipython",
    "version": 3
   },
   "file_extension": ".py",
   "mimetype": "text/x-python",
   "name": "python",
   "nbconvert_exporter": "python",
   "pygments_lexer": "ipython3",
   "version": "3.7.10"
  }
 },
 "nbformat": 4,
 "nbformat_minor": 5
}
