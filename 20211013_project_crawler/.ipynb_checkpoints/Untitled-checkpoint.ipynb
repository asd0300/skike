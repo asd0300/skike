{
 "cells": [
  {
   "cell_type": "code",
   "execution_count": 212,
   "id": "368b67c3",
   "metadata": {},
   "outputs": [],
   "source": [
    "from selenium import webdriver\n",
    "from selenium.webdriver.chrome.options import Options\n",
    "import time\n",
    "opts = Options()\n",
    "opts.add_argument(\"user-agent=Mozilla/5.0 (Windows NT 10.0; Win64; x64) AppleWebKit/537.36 (KHTML, like Gecko) Chrome/96.0.4664.45 Safari/537.36\")\n",
    "driver = webdriver.Chrome(options=opts)\n",
    "driver.get(\"https://tc.trip.com/flights/taibei-to-seoul/tickets-tpe-sel?dcity=tpe&acity=sel&ddate=2021-12-03&rdate=2021-12-06&flighttype=ow&class=y&quantity=1&searchboxarg=t\")\n",
    "time.sleep(3)\n",
    "for number in range(0,10000,200):\n",
    "    js=\"var action=document.documentElement.scrollTop={}\".format(number)\n",
    "    driver.execute_script(js)\n",
    "    time.sleep(0.1)\n",
    "js=\"var action=document.documentElement.scrollTop=0\"\n",
    "driver.execute_script(js)\n"
   ]
  },
  {
   "cell_type": "code",
   "execution_count": 154,
   "id": "03f2d611",
   "metadata": {
    "collapsed": true
   },
   "outputs": [
    {
     "name": "stderr",
     "output_type": "stream",
     "text": [
      "c:\\users\\ben fan\\miniconda3\\lib\\site-packages\\ipykernel_launcher.py:1: DeprecationWarning: find_element_by_* commands are deprecated. Please use find_element() instead\n",
      "  \"\"\"Entry point for launching an IPython kernel.\n"
     ]
    },
    {
     "ename": "NoSuchElementException",
     "evalue": "Message: no such element: Unable to locate element: {\"method\":\"css selector\",\"selector\":\"div.result-itemJ_FlightItem\"}\n  (Session info: chrome=96.0.4664.45)\nStacktrace:\nBacktrace:\n\tOrdinal0 [0x011D6903+2517251]\n\tOrdinal0 [0x0116F8E1+2095329]\n\tOrdinal0 [0x01072848+1058888]\n\tOrdinal0 [0x0109D448+1233992]\n\tOrdinal0 [0x0109D63B+1234491]\n\tOrdinal0 [0x010C7812+1406994]\n\tOrdinal0 [0x010B650A+1336586]\n\tOrdinal0 [0x010C5BBF+1399743]\n\tOrdinal0 [0x010B639B+1336219]\n\tOrdinal0 [0x010927A7+1189799]\n\tOrdinal0 [0x01093609+1193481]\n\tGetHandleVerifier [0x01365904+1577972]\n\tGetHandleVerifier [0x01410B97+2279047]\n\tGetHandleVerifier [0x01266D09+534521]\n\tGetHandleVerifier [0x01265DB9+530601]\n\tOrdinal0 [0x01174FF9+2117625]\n\tOrdinal0 [0x011798A8+2136232]\n\tOrdinal0 [0x011799E2+2136546]\n\tOrdinal0 [0x01183541+2176321]\n\tBaseThreadInitThunk [0x7601FA29+25]\n\tRtlGetAppContainerNamedObjectPath [0x76F37A9E+286]\n\tRtlGetAppContainerNamedObjectPath [0x76F37A6E+238]\n",
     "output_type": "error",
     "traceback": [
      "\u001b[1;31m---------------------------------------------------------------------------\u001b[0m",
      "\u001b[1;31mNoSuchElementException\u001b[0m                    Traceback (most recent call last)",
      "\u001b[1;32mC:\\Users\\BENFAN~1\\AppData\\Local\\Temp/ipykernel_24280/4164861829.py\u001b[0m in \u001b[0;36m<module>\u001b[1;34m\u001b[0m\n\u001b[1;32m----> 1\u001b[1;33m \u001b[0mtitle\u001b[0m \u001b[1;33m=\u001b[0m \u001b[0mdriver\u001b[0m\u001b[1;33m.\u001b[0m\u001b[0mfind_element_by_css_selector\u001b[0m\u001b[1;33m(\u001b[0m\u001b[1;34m\"div.result-itemJ_FlightItem\"\u001b[0m\u001b[1;33m)\u001b[0m\u001b[1;33m.\u001b[0m\u001b[0mget_attribute\u001b[0m\u001b[1;33m(\u001b[0m\u001b[1;34m'innerHTML'\u001b[0m\u001b[1;33m)\u001b[0m\u001b[1;33m\u001b[0m\u001b[1;33m\u001b[0m\u001b[0m\n\u001b[0m",
      "\u001b[1;32mc:\\users\\ben fan\\miniconda3\\lib\\site-packages\\selenium\\webdriver\\remote\\webdriver.py\u001b[0m in \u001b[0;36mfind_element_by_css_selector\u001b[1;34m(self, css_selector)\u001b[0m\n\u001b[0;32m    806\u001b[0m             \u001b[0mstacklevel\u001b[0m\u001b[1;33m=\u001b[0m\u001b[1;36m2\u001b[0m\u001b[1;33m,\u001b[0m\u001b[1;33m\u001b[0m\u001b[1;33m\u001b[0m\u001b[0m\n\u001b[0;32m    807\u001b[0m         )\n\u001b[1;32m--> 808\u001b[1;33m         \u001b[1;32mreturn\u001b[0m \u001b[0mself\u001b[0m\u001b[1;33m.\u001b[0m\u001b[0mfind_element\u001b[0m\u001b[1;33m(\u001b[0m\u001b[0mby\u001b[0m\u001b[1;33m=\u001b[0m\u001b[0mBy\u001b[0m\u001b[1;33m.\u001b[0m\u001b[0mCSS_SELECTOR\u001b[0m\u001b[1;33m,\u001b[0m \u001b[0mvalue\u001b[0m\u001b[1;33m=\u001b[0m\u001b[0mcss_selector\u001b[0m\u001b[1;33m)\u001b[0m\u001b[1;33m\u001b[0m\u001b[1;33m\u001b[0m\u001b[0m\n\u001b[0m\u001b[0;32m    809\u001b[0m \u001b[1;33m\u001b[0m\u001b[0m\n\u001b[0;32m    810\u001b[0m     \u001b[1;32mdef\u001b[0m \u001b[0mfind_elements_by_css_selector\u001b[0m\u001b[1;33m(\u001b[0m\u001b[0mself\u001b[0m\u001b[1;33m,\u001b[0m \u001b[0mcss_selector\u001b[0m\u001b[1;33m)\u001b[0m \u001b[1;33m->\u001b[0m \u001b[0mWebElement\u001b[0m\u001b[1;33m:\u001b[0m\u001b[1;33m\u001b[0m\u001b[1;33m\u001b[0m\u001b[0m\n",
      "\u001b[1;32mc:\\users\\ben fan\\miniconda3\\lib\\site-packages\\selenium\\webdriver\\remote\\webdriver.py\u001b[0m in \u001b[0;36mfind_element\u001b[1;34m(self, by, value)\u001b[0m\n\u001b[0;32m   1244\u001b[0m         return self.execute(Command.FIND_ELEMENT, {\n\u001b[0;32m   1245\u001b[0m             \u001b[1;34m'using'\u001b[0m\u001b[1;33m:\u001b[0m \u001b[0mby\u001b[0m\u001b[1;33m,\u001b[0m\u001b[1;33m\u001b[0m\u001b[1;33m\u001b[0m\u001b[0m\n\u001b[1;32m-> 1246\u001b[1;33m             'value': value})['value']\n\u001b[0m\u001b[0;32m   1247\u001b[0m \u001b[1;33m\u001b[0m\u001b[0m\n\u001b[0;32m   1248\u001b[0m     \u001b[1;32mdef\u001b[0m \u001b[0mfind_elements\u001b[0m\u001b[1;33m(\u001b[0m\u001b[0mself\u001b[0m\u001b[1;33m,\u001b[0m \u001b[0mby\u001b[0m\u001b[1;33m=\u001b[0m\u001b[0mBy\u001b[0m\u001b[1;33m.\u001b[0m\u001b[0mID\u001b[0m\u001b[1;33m,\u001b[0m \u001b[0mvalue\u001b[0m\u001b[1;33m=\u001b[0m\u001b[1;32mNone\u001b[0m\u001b[1;33m)\u001b[0m \u001b[1;33m->\u001b[0m \u001b[0mList\u001b[0m\u001b[1;33m[\u001b[0m\u001b[0mWebElement\u001b[0m\u001b[1;33m]\u001b[0m\u001b[1;33m:\u001b[0m\u001b[1;33m\u001b[0m\u001b[1;33m\u001b[0m\u001b[0m\n",
      "\u001b[1;32mc:\\users\\ben fan\\miniconda3\\lib\\site-packages\\selenium\\webdriver\\remote\\webdriver.py\u001b[0m in \u001b[0;36mexecute\u001b[1;34m(self, driver_command, params)\u001b[0m\n\u001b[0;32m    422\u001b[0m         \u001b[0mresponse\u001b[0m \u001b[1;33m=\u001b[0m \u001b[0mself\u001b[0m\u001b[1;33m.\u001b[0m\u001b[0mcommand_executor\u001b[0m\u001b[1;33m.\u001b[0m\u001b[0mexecute\u001b[0m\u001b[1;33m(\u001b[0m\u001b[0mdriver_command\u001b[0m\u001b[1;33m,\u001b[0m \u001b[0mparams\u001b[0m\u001b[1;33m)\u001b[0m\u001b[1;33m\u001b[0m\u001b[1;33m\u001b[0m\u001b[0m\n\u001b[0;32m    423\u001b[0m         \u001b[1;32mif\u001b[0m \u001b[0mresponse\u001b[0m\u001b[1;33m:\u001b[0m\u001b[1;33m\u001b[0m\u001b[1;33m\u001b[0m\u001b[0m\n\u001b[1;32m--> 424\u001b[1;33m             \u001b[0mself\u001b[0m\u001b[1;33m.\u001b[0m\u001b[0merror_handler\u001b[0m\u001b[1;33m.\u001b[0m\u001b[0mcheck_response\u001b[0m\u001b[1;33m(\u001b[0m\u001b[0mresponse\u001b[0m\u001b[1;33m)\u001b[0m\u001b[1;33m\u001b[0m\u001b[1;33m\u001b[0m\u001b[0m\n\u001b[0m\u001b[0;32m    425\u001b[0m             response['value'] = self._unwrap_value(\n\u001b[0;32m    426\u001b[0m                 response.get('value', None))\n",
      "\u001b[1;32mc:\\users\\ben fan\\miniconda3\\lib\\site-packages\\selenium\\webdriver\\remote\\errorhandler.py\u001b[0m in \u001b[0;36mcheck_response\u001b[1;34m(self, response)\u001b[0m\n\u001b[0;32m    245\u001b[0m                 \u001b[0malert_text\u001b[0m \u001b[1;33m=\u001b[0m \u001b[0mvalue\u001b[0m\u001b[1;33m[\u001b[0m\u001b[1;34m'alert'\u001b[0m\u001b[1;33m]\u001b[0m\u001b[1;33m.\u001b[0m\u001b[0mget\u001b[0m\u001b[1;33m(\u001b[0m\u001b[1;34m'text'\u001b[0m\u001b[1;33m)\u001b[0m\u001b[1;33m\u001b[0m\u001b[1;33m\u001b[0m\u001b[0m\n\u001b[0;32m    246\u001b[0m             \u001b[1;32mraise\u001b[0m \u001b[0mexception_class\u001b[0m\u001b[1;33m(\u001b[0m\u001b[0mmessage\u001b[0m\u001b[1;33m,\u001b[0m \u001b[0mscreen\u001b[0m\u001b[1;33m,\u001b[0m \u001b[0mstacktrace\u001b[0m\u001b[1;33m,\u001b[0m \u001b[0malert_text\u001b[0m\u001b[1;33m)\u001b[0m  \u001b[1;31m# type: ignore[call-arg]  # mypy is not smart enough here\u001b[0m\u001b[1;33m\u001b[0m\u001b[1;33m\u001b[0m\u001b[0m\n\u001b[1;32m--> 247\u001b[1;33m         \u001b[1;32mraise\u001b[0m \u001b[0mexception_class\u001b[0m\u001b[1;33m(\u001b[0m\u001b[0mmessage\u001b[0m\u001b[1;33m,\u001b[0m \u001b[0mscreen\u001b[0m\u001b[1;33m,\u001b[0m \u001b[0mstacktrace\u001b[0m\u001b[1;33m)\u001b[0m\u001b[1;33m\u001b[0m\u001b[1;33m\u001b[0m\u001b[0m\n\u001b[0m\u001b[0;32m    248\u001b[0m \u001b[1;33m\u001b[0m\u001b[0m\n\u001b[0;32m    249\u001b[0m     \u001b[1;32mdef\u001b[0m \u001b[0m_value_or_default\u001b[0m\u001b[1;33m(\u001b[0m\u001b[0mself\u001b[0m\u001b[1;33m,\u001b[0m \u001b[0mobj\u001b[0m\u001b[1;33m:\u001b[0m \u001b[0mMapping\u001b[0m\u001b[1;33m[\u001b[0m\u001b[0m_KT\u001b[0m\u001b[1;33m,\u001b[0m \u001b[0m_VT\u001b[0m\u001b[1;33m]\u001b[0m\u001b[1;33m,\u001b[0m \u001b[0mkey\u001b[0m\u001b[1;33m:\u001b[0m \u001b[0m_KT\u001b[0m\u001b[1;33m,\u001b[0m \u001b[0mdefault\u001b[0m\u001b[1;33m:\u001b[0m \u001b[0m_VT\u001b[0m\u001b[1;33m)\u001b[0m \u001b[1;33m->\u001b[0m \u001b[0m_VT\u001b[0m\u001b[1;33m:\u001b[0m\u001b[1;33m\u001b[0m\u001b[1;33m\u001b[0m\u001b[0m\n",
      "\u001b[1;31mNoSuchElementException\u001b[0m: Message: no such element: Unable to locate element: {\"method\":\"css selector\",\"selector\":\"div.result-itemJ_FlightItem\"}\n  (Session info: chrome=96.0.4664.45)\nStacktrace:\nBacktrace:\n\tOrdinal0 [0x011D6903+2517251]\n\tOrdinal0 [0x0116F8E1+2095329]\n\tOrdinal0 [0x01072848+1058888]\n\tOrdinal0 [0x0109D448+1233992]\n\tOrdinal0 [0x0109D63B+1234491]\n\tOrdinal0 [0x010C7812+1406994]\n\tOrdinal0 [0x010B650A+1336586]\n\tOrdinal0 [0x010C5BBF+1399743]\n\tOrdinal0 [0x010B639B+1336219]\n\tOrdinal0 [0x010927A7+1189799]\n\tOrdinal0 [0x01093609+1193481]\n\tGetHandleVerifier [0x01365904+1577972]\n\tGetHandleVerifier [0x01410B97+2279047]\n\tGetHandleVerifier [0x01266D09+534521]\n\tGetHandleVerifier [0x01265DB9+530601]\n\tOrdinal0 [0x01174FF9+2117625]\n\tOrdinal0 [0x011798A8+2136232]\n\tOrdinal0 [0x011799E2+2136546]\n\tOrdinal0 [0x01183541+2176321]\n\tBaseThreadInitThunk [0x7601FA29+25]\n\tRtlGetAppContainerNamedObjectPath [0x76F37A9E+286]\n\tRtlGetAppContainerNamedObjectPath [0x76F37A6E+238]\n"
     ]
    }
   ],
   "source": [
    "# title = driver.find_element_by_css_selector(\"div.result-itemJ_FlightItem\").get_attribute('innerHTML')"
   ]
  },
  {
   "cell_type": "code",
   "execution_count": 214,
   "id": "9a728689",
   "metadata": {
    "scrolled": true
   },
   "outputs": [
    {
     "name": "stderr",
     "output_type": "stream",
     "text": [
      "c:\\users\\ben fan\\miniconda3\\lib\\site-packages\\ipykernel_launcher.py:1: DeprecationWarning: find_elements_by_* commands are deprecated. Please use find_elements() instead\n",
      "  \"\"\"Entry point for launching an IPython kernel.\n"
     ]
    }
   ],
   "source": [
    "flight_info_duration = driver.find_elements_by_css_selector(\"div.flight-info-duration\")"
   ]
  },
  {
   "cell_type": "code",
   "execution_count": 215,
   "id": "aadf18c4",
   "metadata": {},
   "outputs": [],
   "source": [
    "flight_duration = [item.text for item in flight_info_duration]"
   ]
  },
  {
   "cell_type": "code",
   "execution_count": 216,
   "id": "21b3ad38",
   "metadata": {},
   "outputs": [
    {
     "data": {
      "text/plain": [
       "['2小時25分',\n",
       " '2小時30分',\n",
       " '21小時25分',\n",
       " '21小時45分',\n",
       " '22小時20分',\n",
       " '21小時40分',\n",
       " '22小時20分',\n",
       " '22小時30分']"
      ]
     },
     "execution_count": 216,
     "metadata": {},
     "output_type": "execute_result"
    }
   ],
   "source": [
    "flight_duration"
   ]
  },
  {
   "cell_type": "code",
   "execution_count": 202,
   "id": "04e886d4",
   "metadata": {},
   "outputs": [
    {
     "name": "stderr",
     "output_type": "stream",
     "text": [
      "c:\\users\\ben fan\\miniconda3\\lib\\site-packages\\ipykernel_launcher.py:1: DeprecationWarning: find_elements_by_* commands are deprecated. Please use find_elements() instead\n",
      "  \"\"\"Entry point for launching an IPython kernel.\n"
     ]
    }
   ],
   "source": [
    "pic = driver.find_elements_by_css_selector(\"img.flight-info-airline__logo.airline-logo\")"
   ]
  },
  {
   "cell_type": "code",
   "execution_count": 203,
   "id": "74b4fd33",
   "metadata": {},
   "outputs": [
    {
     "data": {
      "text/plain": [
       "[<selenium.webdriver.remote.webelement.WebElement (session=\"bc7f7923faac089c7318c87665c26700\", element=\"27d8f2c8-f22b-4f47-94db-41f37c319486\")>,\n",
       " <selenium.webdriver.remote.webelement.WebElement (session=\"bc7f7923faac089c7318c87665c26700\", element=\"57d5a583-16ec-424c-9182-e2d9aa41e497\")>]"
      ]
     },
     "execution_count": 203,
     "metadata": {},
     "output_type": "execute_result"
    }
   ],
   "source": [
    "pic"
   ]
  },
  {
   "cell_type": "code",
   "execution_count": 204,
   "id": "cff40f4a",
   "metadata": {},
   "outputs": [],
   "source": [
    "fligh_company_picture = [item.get_attribute('src') for item in pic]"
   ]
  },
  {
   "cell_type": "code",
   "execution_count": 205,
   "id": "9396b37d",
   "metadata": {},
   "outputs": [
    {
     "data": {
      "text/plain": [
       "['https://pic.tripcdn.com/airline_logo/3x/ke.webp',\n",
       " 'https://pic.tripcdn.com/airline_logo/3x/tg.webp']"
      ]
     },
     "execution_count": 205,
     "metadata": {},
     "output_type": "execute_result"
    }
   ],
   "source": [
    "fligh_company_picture"
   ]
  },
  {
   "cell_type": "code",
   "execution_count": 206,
   "id": "a5564c4d",
   "metadata": {
    "scrolled": false
   },
   "outputs": [
    {
     "name": "stderr",
     "output_type": "stream",
     "text": [
      "c:\\users\\ben fan\\miniconda3\\lib\\site-packages\\ipykernel_launcher.py:1: DeprecationWarning: find_elements_by_* commands are deprecated. Please use find_elements() instead\n",
      "  \"\"\"Entry point for launching an IPython kernel.\n"
     ]
    }
   ],
   "source": [
    "time_depart = driver.find_elements_by_css_selector(\"div.flight-info-airline__timer>span\")"
   ]
  },
  {
   "cell_type": "code",
   "execution_count": 207,
   "id": "683ec826",
   "metadata": {
    "scrolled": false
   },
   "outputs": [],
   "source": [
    "flight_schedual = [item.get_attribute('innerHTML') for item in time_depart]"
   ]
  },
  {
   "cell_type": "code",
   "execution_count": 208,
   "id": "e2a2ae19",
   "metadata": {},
   "outputs": [],
   "source": [
    "flight_schedual_depart = flight_schedual[0:len(flight_schedual):3]"
   ]
  },
  {
   "cell_type": "code",
   "execution_count": 209,
   "id": "d980735d",
   "metadata": {},
   "outputs": [],
   "source": [
    "flight_schedual_arrive = flight_schedual[2:len(flight_schedual):3]"
   ]
  },
  {
   "cell_type": "code",
   "execution_count": 210,
   "id": "b9d58297",
   "metadata": {},
   "outputs": [
    {
     "data": {
      "text/plain": [
       "['15:50',\n",
       " '07:05',\n",
       " '07:05',\n",
       " '07:40',\n",
       " '07:30',\n",
       " '06:55',\n",
       " '07:40',\n",
       " '06:55',\n",
       " '07:05']"
      ]
     },
     "execution_count": 210,
     "metadata": {},
     "output_type": "execute_result"
    }
   ],
   "source": [
    "flight_schedual_arrive"
   ]
  },
  {
   "cell_type": "code",
   "execution_count": 218,
   "id": "d451dd5e",
   "metadata": {
    "scrolled": true
   },
   "outputs": [
    {
     "name": "stderr",
     "output_type": "stream",
     "text": [
      "c:\\users\\ben fan\\miniconda3\\lib\\site-packages\\ipykernel_launcher.py:1: DeprecationWarning: find_element_by_* commands are deprecated. Please use find_element() instead\n",
      "  \"\"\"Entry point for launching an IPython kernel.\n"
     ]
    },
    {
     "data": {
      "text/plain": [
       "'<span class=\"book-btn-txt flex-center line-h18 f-16\"><span>預訂</span></span>'"
      ]
     },
     "execution_count": 218,
     "metadata": {},
     "output_type": "execute_result"
    }
   ],
   "source": [
    "driver.find_element_by_css_selector(\"span.c-result-operate__btn\").get_attribute('innerHTML')"
   ]
  },
  {
   "cell_type": "code",
   "execution_count": null,
   "id": "75209e84",
   "metadata": {},
   "outputs": [],
   "source": []
  },
  {
   "cell_type": "code",
   "execution_count": 192,
   "id": "61141753",
   "metadata": {},
   "outputs": [
    {
     "data": {
      "text/plain": [
       "[<selenium.webdriver.remote.webelement.WebElement (session=\"2fea6900f480625926e0618132e1c783\", element=\"8fbb8085-72e2-4029-bc4f-caa7744eb5a4\")>,\n",
       " <selenium.webdriver.remote.webelement.WebElement (session=\"2fea6900f480625926e0618132e1c783\", element=\"ace98f83-2ba1-46ff-b378-f251efe5d35a\")>,\n",
       " <selenium.webdriver.remote.webelement.WebElement (session=\"2fea6900f480625926e0618132e1c783\", element=\"ee484987-c03e-4140-a70e-d0bc026d4c9a\")>,\n",
       " <selenium.webdriver.remote.webelement.WebElement (session=\"2fea6900f480625926e0618132e1c783\", element=\"ed9c3e5f-a182-45e3-8ad7-b1bb0063ba01\")>,\n",
       " <selenium.webdriver.remote.webelement.WebElement (session=\"2fea6900f480625926e0618132e1c783\", element=\"f7377f48-63d7-4323-9365-4349e3848508\")>,\n",
       " <selenium.webdriver.remote.webelement.WebElement (session=\"2fea6900f480625926e0618132e1c783\", element=\"e5c2ff96-3f2b-4687-876d-7d668914e0f7\")>,\n",
       " <selenium.webdriver.remote.webelement.WebElement (session=\"2fea6900f480625926e0618132e1c783\", element=\"185b9b77-aaa9-4865-aac6-5fdfceb66895\")>,\n",
       " <selenium.webdriver.remote.webelement.WebElement (session=\"2fea6900f480625926e0618132e1c783\", element=\"3b0cc8ae-56db-4ec4-9aed-28c9fcd01ffc\")>,\n",
       " <selenium.webdriver.remote.webelement.WebElement (session=\"2fea6900f480625926e0618132e1c783\", element=\"7b66c69e-a2d1-4eb6-82d0-6ec21eafded4\")>,\n",
       " <selenium.webdriver.remote.webelement.WebElement (session=\"2fea6900f480625926e0618132e1c783\", element=\"d199704f-149c-4c2f-8467-32530cedaafa\")>,\n",
       " <selenium.webdriver.remote.webelement.WebElement (session=\"2fea6900f480625926e0618132e1c783\", element=\"13f0753a-0a37-49d3-93ee-1ccc8d264398\")>,\n",
       " <selenium.webdriver.remote.webelement.WebElement (session=\"2fea6900f480625926e0618132e1c783\", element=\"9ef7ed9a-184d-4070-8246-da9c35a5beac\")>,\n",
       " <selenium.webdriver.remote.webelement.WebElement (session=\"2fea6900f480625926e0618132e1c783\", element=\"353ab1aa-2afd-4fa9-98fe-f6d00449bd58\")>,\n",
       " <selenium.webdriver.remote.webelement.WebElement (session=\"2fea6900f480625926e0618132e1c783\", element=\"1e0d3db5-a56d-4673-9213-21e81e063aa2\")>,\n",
       " <selenium.webdriver.remote.webelement.WebElement (session=\"2fea6900f480625926e0618132e1c783\", element=\"acd3418b-ae85-4514-bf17-489a4bbc9cea\")>,\n",
       " <selenium.webdriver.remote.webelement.WebElement (session=\"2fea6900f480625926e0618132e1c783\", element=\"9aa2856e-17ca-43e9-b4c0-7eb012988491\")>,\n",
       " <selenium.webdriver.remote.webelement.WebElement (session=\"2fea6900f480625926e0618132e1c783\", element=\"7fb4b2d0-6852-4999-8e38-389d1141a40b\")>]"
      ]
     },
     "execution_count": 192,
     "metadata": {},
     "output_type": "execute_result"
    }
   ],
   "source": [
    "more_pic"
   ]
  },
  {
   "cell_type": "code",
   "execution_count": 190,
   "id": "cba4a0b7",
   "metadata": {},
   "outputs": [],
   "source": [
    "more_pic.click()"
   ]
  },
  {
   "cell_type": "code",
   "execution_count": 193,
   "id": "e996e3f1",
   "metadata": {},
   "outputs": [],
   "source": [
    "for button in more_pic:\n",
    "    button.click()"
   ]
  },
  {
   "cell_type": "code",
   "execution_count": 88,
   "id": "b013ced3",
   "metadata": {
    "scrolled": true
   },
   "outputs": [],
   "source": [
    "button_list.click()"
   ]
  },
  {
   "cell_type": "code",
   "execution_count": null,
   "id": "9a59ed6d",
   "metadata": {},
   "outputs": [],
   "source": []
  },
  {
   "cell_type": "code",
   "execution_count": 85,
   "id": "dbcba1b2",
   "metadata": {},
   "outputs": [],
   "source": [
    "for button in button_list:\n",
    "    button.click()"
   ]
  },
  {
   "cell_type": "code",
   "execution_count": null,
   "id": "a7e9575c",
   "metadata": {},
   "outputs": [],
   "source": []
  }
 ],
 "metadata": {
  "kernelspec": {
   "display_name": "Python 3 (ipykernel)",
   "language": "python",
   "name": "python3"
  },
  "language_info": {
   "codemirror_mode": {
    "name": "ipython",
    "version": 3
   },
   "file_extension": ".py",
   "mimetype": "text/x-python",
   "name": "python",
   "nbconvert_exporter": "python",
   "pygments_lexer": "ipython3",
   "version": "3.7.10"
  }
 },
 "nbformat": 4,
 "nbformat_minor": 5
}
